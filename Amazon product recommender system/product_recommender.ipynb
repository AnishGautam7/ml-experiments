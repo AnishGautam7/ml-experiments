{
 "cells": [
  {
   "cell_type": "code",
   "execution_count": 1,
   "id": "d2df355f-6cea-48f3-9152-8a5389224cc9",
   "metadata": {},
   "outputs": [],
   "source": [
    "import numpy as np\n",
    "import pandas as pd\n",
    "import matplotlib.pyplot as plt\n",
    "import seaborn as sns"
   ]
  },
  {
   "cell_type": "code",
   "execution_count": 2,
   "id": "1ddd8508-7d0e-416b-b0b8-7cbec0bc29f2",
   "metadata": {},
   "outputs": [],
   "source": [
    "df = pd.read_csv(\"amazon_product.csv\")"
   ]
  },
  {
   "cell_type": "code",
   "execution_count": 3,
   "id": "5ff755f1-84b6-4aa0-bd68-59410196d7bd",
   "metadata": {},
   "outputs": [
    {
     "data": {
      "text/html": [
       "<div>\n",
       "<style scoped>\n",
       "    .dataframe tbody tr th:only-of-type {\n",
       "        vertical-align: middle;\n",
       "    }\n",
       "\n",
       "    .dataframe tbody tr th {\n",
       "        vertical-align: top;\n",
       "    }\n",
       "\n",
       "    .dataframe thead th {\n",
       "        text-align: right;\n",
       "    }\n",
       "</style>\n",
       "<table border=\"1\" class=\"dataframe\">\n",
       "  <thead>\n",
       "    <tr style=\"text-align: right;\">\n",
       "      <th></th>\n",
       "      <th>id</th>\n",
       "      <th>Title</th>\n",
       "      <th>Description</th>\n",
       "      <th>Category</th>\n",
       "    </tr>\n",
       "  </thead>\n",
       "  <tbody>\n",
       "    <tr>\n",
       "      <th>0</th>\n",
       "      <td>1</td>\n",
       "      <td>Swissmar Capstore Select Storage Rack for 18-...</td>\n",
       "      <td>Swissmar's capstore select 18 storage unit kee...</td>\n",
       "      <td>Home &amp; Kitchen Kitchen &amp; Dining Kitchen Utens...</td>\n",
       "    </tr>\n",
       "    <tr>\n",
       "      <th>1</th>\n",
       "      <td>2</td>\n",
       "      <td>Gemini200 Delta CV-880 Gold Crown Livery Airc...</td>\n",
       "      <td>Welcome to the exciting world of GeminiJets! O...</td>\n",
       "      <td>Toys &amp; Games Hobbies Models &amp; Model Kits Pre-...</td>\n",
       "    </tr>\n",
       "    <tr>\n",
       "      <th>2</th>\n",
       "      <td>5</td>\n",
       "      <td>Superior Threads 10501-2172 Magnifico Cream P...</td>\n",
       "      <td>For quilting and embroidery, this product is m...</td>\n",
       "      <td>Arts, Crafts &amp; Sewing Sewing Thread &amp; Floss S...</td>\n",
       "    </tr>\n",
       "    <tr>\n",
       "      <th>3</th>\n",
       "      <td>6</td>\n",
       "      <td>Fashion Angels Color Rox Hair Chox Kit</td>\n",
       "      <td>Experiment with the haute trend of hair chalki...</td>\n",
       "      <td>Beauty &amp; Personal Care Hair Care Hair Colorin...</td>\n",
       "    </tr>\n",
       "    <tr>\n",
       "      <th>4</th>\n",
       "      <td>8</td>\n",
       "      <td>Union Creative Giant Killing Figure 05: Daisu...</td>\n",
       "      <td>From Union Creative. Turn your display shelf i...</td>\n",
       "      <td>Toys &amp; Games › Action Figures &amp; Statues › Sta...</td>\n",
       "    </tr>\n",
       "  </tbody>\n",
       "</table>\n",
       "</div>"
      ],
      "text/plain": [
       "   id                                              Title  \\\n",
       "0   1   Swissmar Capstore Select Storage Rack for 18-...   \n",
       "1   2   Gemini200 Delta CV-880 Gold Crown Livery Airc...   \n",
       "2   5   Superior Threads 10501-2172 Magnifico Cream P...   \n",
       "3   6            Fashion Angels Color Rox Hair Chox Kit    \n",
       "4   8   Union Creative Giant Killing Figure 05: Daisu...   \n",
       "\n",
       "                                         Description  \\\n",
       "0  Swissmar's capstore select 18 storage unit kee...   \n",
       "1  Welcome to the exciting world of GeminiJets! O...   \n",
       "2  For quilting and embroidery, this product is m...   \n",
       "3  Experiment with the haute trend of hair chalki...   \n",
       "4  From Union Creative. Turn your display shelf i...   \n",
       "\n",
       "                                            Category  \n",
       "0   Home & Kitchen Kitchen & Dining Kitchen Utens...  \n",
       "1   Toys & Games Hobbies Models & Model Kits Pre-...  \n",
       "2   Arts, Crafts & Sewing Sewing Thread & Floss S...  \n",
       "3   Beauty & Personal Care Hair Care Hair Colorin...  \n",
       "4   Toys & Games › Action Figures & Statues › Sta...  "
      ]
     },
     "execution_count": 3,
     "metadata": {},
     "output_type": "execute_result"
    }
   ],
   "source": [
    "df.head()"
   ]
  },
  {
   "cell_type": "code",
   "execution_count": 4,
   "id": "7039098f-8976-4190-9deb-dd2c502df4b7",
   "metadata": {},
   "outputs": [],
   "source": [
    "df.drop(columns=['id'], inplace = True)"
   ]
  },
  {
   "cell_type": "code",
   "execution_count": null,
   "id": "43dc2391-def2-480f-9c9f-685f6213c346",
   "metadata": {},
   "outputs": [],
   "source": []
  },
  {
   "cell_type": "code",
   "execution_count": 5,
   "id": "bd35ce95-b7df-4b6c-bdfa-1420c6dd3022",
   "metadata": {},
   "outputs": [
    {
     "data": {
      "text/plain": [
       "' Swissmar Capstore Select Storage Rack for 18-Pack '"
      ]
     },
     "execution_count": 5,
     "metadata": {},
     "output_type": "execute_result"
    }
   ],
   "source": [
    "df[\"Title\"][0]"
   ]
  },
  {
   "cell_type": "code",
   "execution_count": 6,
   "id": "2f5f16f0-6089-43bc-9842-abd174364330",
   "metadata": {},
   "outputs": [
    {
     "data": {
      "text/plain": [
       "'Welcome to the exciting world of GeminiJets! Our models are highly collectible and are all limited editions. '"
      ]
     },
     "execution_count": 6,
     "metadata": {},
     "output_type": "execute_result"
    }
   ],
   "source": [
    "df['Description'][1]"
   ]
  },
  {
   "cell_type": "code",
   "execution_count": 7,
   "id": "bfefe99f-e184-4e32-bcf2-b2366dc9dd82",
   "metadata": {},
   "outputs": [
    {
     "data": {
      "text/plain": [
       "' Beauty & Personal Care Hair Care Hair Coloring Products Hair Color '"
      ]
     },
     "execution_count": 7,
     "metadata": {},
     "output_type": "execute_result"
    }
   ],
   "source": [
    "df['Category'][3]"
   ]
  },
  {
   "cell_type": "code",
   "execution_count": 8,
   "id": "1387cd23-2d46-40d9-a097-8f0c4abc0264",
   "metadata": {},
   "outputs": [
    {
     "name": "stdout",
     "output_type": "stream",
     "text": [
      "<class 'pandas.core.frame.DataFrame'>\n",
      "RangeIndex: 668 entries, 0 to 667\n",
      "Data columns (total 3 columns):\n",
      " #   Column       Non-Null Count  Dtype \n",
      "---  ------       --------------  ----- \n",
      " 0   Title        668 non-null    object\n",
      " 1   Description  668 non-null    object\n",
      " 2   Category     668 non-null    object\n",
      "dtypes: object(3)\n",
      "memory usage: 15.8+ KB\n"
     ]
    }
   ],
   "source": [
    "df.info()"
   ]
  },
  {
   "cell_type": "code",
   "execution_count": 9,
   "id": "4e3c4f2e-4dc3-4b38-bed5-8445c49ef708",
   "metadata": {},
   "outputs": [
    {
     "data": {
      "text/plain": [
       "Title          0\n",
       "Description    0\n",
       "Category       0\n",
       "dtype: int64"
      ]
     },
     "execution_count": 9,
     "metadata": {},
     "output_type": "execute_result"
    }
   ],
   "source": [
    "df.isnull().sum()"
   ]
  },
  {
   "cell_type": "code",
   "execution_count": 10,
   "id": "adcf4a22-61c0-45ad-ac4b-be69ff4ee4a2",
   "metadata": {},
   "outputs": [],
   "source": [
    "df[\"Num_Title\"] = df['Title'].apply(lambda x:x.split())"
   ]
  },
  {
   "cell_type": "code",
   "execution_count": 11,
   "id": "a02a5b81-25b2-4e37-8fe7-34e67b0fb758",
   "metadata": {},
   "outputs": [
    {
     "data": {
      "text/html": [
       "<div>\n",
       "<style scoped>\n",
       "    .dataframe tbody tr th:only-of-type {\n",
       "        vertical-align: middle;\n",
       "    }\n",
       "\n",
       "    .dataframe tbody tr th {\n",
       "        vertical-align: top;\n",
       "    }\n",
       "\n",
       "    .dataframe thead th {\n",
       "        text-align: right;\n",
       "    }\n",
       "</style>\n",
       "<table border=\"1\" class=\"dataframe\">\n",
       "  <thead>\n",
       "    <tr style=\"text-align: right;\">\n",
       "      <th></th>\n",
       "      <th>Title</th>\n",
       "      <th>Description</th>\n",
       "      <th>Category</th>\n",
       "      <th>Num_Title</th>\n",
       "    </tr>\n",
       "  </thead>\n",
       "  <tbody>\n",
       "    <tr>\n",
       "      <th>0</th>\n",
       "      <td>Swissmar Capstore Select Storage Rack for 18-...</td>\n",
       "      <td>Swissmar's capstore select 18 storage unit kee...</td>\n",
       "      <td>Home &amp; Kitchen Kitchen &amp; Dining Kitchen Utens...</td>\n",
       "      <td>[Swissmar, Capstore, Select, Storage, Rack, fo...</td>\n",
       "    </tr>\n",
       "    <tr>\n",
       "      <th>1</th>\n",
       "      <td>Gemini200 Delta CV-880 Gold Crown Livery Airc...</td>\n",
       "      <td>Welcome to the exciting world of GeminiJets! O...</td>\n",
       "      <td>Toys &amp; Games Hobbies Models &amp; Model Kits Pre-...</td>\n",
       "      <td>[Gemini200, Delta, CV-880, Gold, Crown, Livery...</td>\n",
       "    </tr>\n",
       "    <tr>\n",
       "      <th>2</th>\n",
       "      <td>Superior Threads 10501-2172 Magnifico Cream P...</td>\n",
       "      <td>For quilting and embroidery, this product is m...</td>\n",
       "      <td>Arts, Crafts &amp; Sewing Sewing Thread &amp; Floss S...</td>\n",
       "      <td>[Superior, Threads, 10501-2172, Magnifico, Cre...</td>\n",
       "    </tr>\n",
       "    <tr>\n",
       "      <th>3</th>\n",
       "      <td>Fashion Angels Color Rox Hair Chox Kit</td>\n",
       "      <td>Experiment with the haute trend of hair chalki...</td>\n",
       "      <td>Beauty &amp; Personal Care Hair Care Hair Colorin...</td>\n",
       "      <td>[Fashion, Angels, Color, Rox, Hair, Chox, Kit]</td>\n",
       "    </tr>\n",
       "    <tr>\n",
       "      <th>4</th>\n",
       "      <td>Union Creative Giant Killing Figure 05: Daisu...</td>\n",
       "      <td>From Union Creative. Turn your display shelf i...</td>\n",
       "      <td>Toys &amp; Games › Action Figures &amp; Statues › Sta...</td>\n",
       "      <td>[Union, Creative, Giant, Killing, Figure, 05:,...</td>\n",
       "    </tr>\n",
       "  </tbody>\n",
       "</table>\n",
       "</div>"
      ],
      "text/plain": [
       "                                               Title  \\\n",
       "0   Swissmar Capstore Select Storage Rack for 18-...   \n",
       "1   Gemini200 Delta CV-880 Gold Crown Livery Airc...   \n",
       "2   Superior Threads 10501-2172 Magnifico Cream P...   \n",
       "3            Fashion Angels Color Rox Hair Chox Kit    \n",
       "4   Union Creative Giant Killing Figure 05: Daisu...   \n",
       "\n",
       "                                         Description  \\\n",
       "0  Swissmar's capstore select 18 storage unit kee...   \n",
       "1  Welcome to the exciting world of GeminiJets! O...   \n",
       "2  For quilting and embroidery, this product is m...   \n",
       "3  Experiment with the haute trend of hair chalki...   \n",
       "4  From Union Creative. Turn your display shelf i...   \n",
       "\n",
       "                                            Category  \\\n",
       "0   Home & Kitchen Kitchen & Dining Kitchen Utens...   \n",
       "1   Toys & Games Hobbies Models & Model Kits Pre-...   \n",
       "2   Arts, Crafts & Sewing Sewing Thread & Floss S...   \n",
       "3   Beauty & Personal Care Hair Care Hair Colorin...   \n",
       "4   Toys & Games › Action Figures & Statues › Sta...   \n",
       "\n",
       "                                           Num_Title  \n",
       "0  [Swissmar, Capstore, Select, Storage, Rack, fo...  \n",
       "1  [Gemini200, Delta, CV-880, Gold, Crown, Livery...  \n",
       "2  [Superior, Threads, 10501-2172, Magnifico, Cre...  \n",
       "3     [Fashion, Angels, Color, Rox, Hair, Chox, Kit]  \n",
       "4  [Union, Creative, Giant, Killing, Figure, 05:,...  "
      ]
     },
     "execution_count": 11,
     "metadata": {},
     "output_type": "execute_result"
    }
   ],
   "source": [
    "df.head()"
   ]
  },
  {
   "cell_type": "code",
   "execution_count": 12,
   "id": "c2e3d7d9-85bc-4488-a628-11a5b1ca0ae3",
   "metadata": {},
   "outputs": [
    {
     "data": {
      "text/plain": [
       "['Swissmar', 'Capstore', 'Select', 'Storage', 'Rack', 'for', '18-Pack']"
      ]
     },
     "execution_count": 12,
     "metadata": {},
     "output_type": "execute_result"
    }
   ],
   "source": [
    "df[\"Num_Title\"][0]"
   ]
  },
  {
   "cell_type": "code",
   "execution_count": 13,
   "id": "4607a44e-0d7d-450f-9554-b3e5ea42e118",
   "metadata": {},
   "outputs": [],
   "source": [
    "import nltk"
   ]
  },
  {
   "cell_type": "code",
   "execution_count": 14,
   "id": "57a556b9-36f7-4c73-afd2-d67ff7e624d5",
   "metadata": {},
   "outputs": [
    {
     "data": {
      "text/plain": [
       "['How are you bro.?', 'I am always doing very good']"
      ]
     },
     "execution_count": 14,
     "metadata": {},
     "output_type": "execute_result"
    }
   ],
   "source": [
    "nltk.sent_tokenize(\"How are you bro.? I am always doing very good\")"
   ]
  },
  {
   "cell_type": "code",
   "execution_count": 15,
   "id": "d80f03a7-a7cf-4401-8570-70c0e2f46595",
   "metadata": {},
   "outputs": [
    {
     "data": {
      "text/plain": [
       "['How',\n",
       " 'are',\n",
       " 'you',\n",
       " 'bro.',\n",
       " '?',\n",
       " 'I',\n",
       " 'am',\n",
       " 'always',\n",
       " 'doing',\n",
       " 'very',\n",
       " 'good']"
      ]
     },
     "execution_count": 15,
     "metadata": {},
     "output_type": "execute_result"
    }
   ],
   "source": [
    "nltk.word_tokenize(\"How are you bro.? I am always doing very good\")"
   ]
  },
  {
   "cell_type": "code",
   "execution_count": 16,
   "id": "c479a310-3ac4-43e8-af83-5ec8128bd551",
   "metadata": {},
   "outputs": [],
   "source": [
    "from nltk.stem.snowball import SnowballStemmer"
   ]
  },
  {
   "cell_type": "code",
   "execution_count": 17,
   "id": "5c341002-ca30-4d01-97e1-1509a47aa489",
   "metadata": {},
   "outputs": [],
   "source": [
    "stemmer = SnowballStemmer('english')"
   ]
  },
  {
   "cell_type": "markdown",
   "id": "b624ec18-6122-4acd-9b4e-a7161f801ac5",
   "metadata": {},
   "source": [
    "### Tokenizes and stems the input text\n",
    "\n",
    "This function performs the following steps:  \n",
    "1. Converts the input text to lowercase.  \n",
    "2. Tokenizes the text into individual words using **NLTK's** `word_tokenize`.  \n",
    "3. Applies stemming to each token using the **PorterStemmer**.  \n",
    "4. Joins the stemmed tokens back into a single string.\n",
    "\n",
    "#### Parameters:\n",
    "**text** : `str`  \n",
    "&emsp;The input string of text to be processed.\n",
    "\n",
    "#### Returns:\n",
    "**str**  \n",
    "&emsp;A single string containing the stemmed tokens, separated by spaces.\n",
    "\n",
    "#### Example:\n",
    "```python\n",
    "tokenize_stem(\"Running runners run quickly.\")\n",
    "# Output: 'run runner run quickli'\n"
   ]
  },
  {
   "cell_type": "code",
   "execution_count": 18,
   "id": "5b995de7-1079-4195-a276-fc11dd54372e",
   "metadata": {},
   "outputs": [],
   "source": [
    "def tokenize_stem(text):\n",
    "    # Convert text to lowercase and tokenize it\n",
    "    tokens = nltk.word_tokenize(text.lower())\n",
    "    \n",
    "    # Apply stemming to each token\n",
    "    stemmed = [stemmer.stem(w) for w in tokens]\n",
    "    \n",
    "    # Join stemmed words into a single string\n",
    "    return \" \".join(stemmed)"
   ]
  },
  {
   "cell_type": "code",
   "execution_count": 19,
   "id": "dce677b1-8f2b-4f7b-b63e-575bc35cd32b",
   "metadata": {},
   "outputs": [],
   "source": [
    "df[\"stemmed_tokens\"]= df.apply(lambda row:tokenize_stem(row['Title'] + \"\" + row['Description']), axis = 1 )"
   ]
  },
  {
   "cell_type": "code",
   "execution_count": 20,
   "id": "06d7e1d3-49d6-4f46-83e0-098eb914d2be",
   "metadata": {},
   "outputs": [
    {
     "data": {
      "text/html": [
       "<div>\n",
       "<style scoped>\n",
       "    .dataframe tbody tr th:only-of-type {\n",
       "        vertical-align: middle;\n",
       "    }\n",
       "\n",
       "    .dataframe tbody tr th {\n",
       "        vertical-align: top;\n",
       "    }\n",
       "\n",
       "    .dataframe thead th {\n",
       "        text-align: right;\n",
       "    }\n",
       "</style>\n",
       "<table border=\"1\" class=\"dataframe\">\n",
       "  <thead>\n",
       "    <tr style=\"text-align: right;\">\n",
       "      <th></th>\n",
       "      <th>Title</th>\n",
       "      <th>Description</th>\n",
       "      <th>Category</th>\n",
       "      <th>Num_Title</th>\n",
       "      <th>stemmed_tokens</th>\n",
       "    </tr>\n",
       "  </thead>\n",
       "  <tbody>\n",
       "    <tr>\n",
       "      <th>0</th>\n",
       "      <td>Swissmar Capstore Select Storage Rack for 18-...</td>\n",
       "      <td>Swissmar's capstore select 18 storage unit kee...</td>\n",
       "      <td>Home &amp; Kitchen Kitchen &amp; Dining Kitchen Utens...</td>\n",
       "      <td>[Swissmar, Capstore, Select, Storage, Rack, fo...</td>\n",
       "      <td>swissmar capstor select storag rack for 18-pac...</td>\n",
       "    </tr>\n",
       "    <tr>\n",
       "      <th>1</th>\n",
       "      <td>Gemini200 Delta CV-880 Gold Crown Livery Airc...</td>\n",
       "      <td>Welcome to the exciting world of GeminiJets! O...</td>\n",
       "      <td>Toys &amp; Games Hobbies Models &amp; Model Kits Pre-...</td>\n",
       "      <td>[Gemini200, Delta, CV-880, Gold, Crown, Livery...</td>\n",
       "      <td>gemini200 delta cv-880 gold crown liveri aircr...</td>\n",
       "    </tr>\n",
       "    <tr>\n",
       "      <th>2</th>\n",
       "      <td>Superior Threads 10501-2172 Magnifico Cream P...</td>\n",
       "      <td>For quilting and embroidery, this product is m...</td>\n",
       "      <td>Arts, Crafts &amp; Sewing Sewing Thread &amp; Floss S...</td>\n",
       "      <td>[Superior, Threads, 10501-2172, Magnifico, Cre...</td>\n",
       "      <td>superior thread 10501-2172 magnifico cream puf...</td>\n",
       "    </tr>\n",
       "    <tr>\n",
       "      <th>3</th>\n",
       "      <td>Fashion Angels Color Rox Hair Chox Kit</td>\n",
       "      <td>Experiment with the haute trend of hair chalki...</td>\n",
       "      <td>Beauty &amp; Personal Care Hair Care Hair Colorin...</td>\n",
       "      <td>[Fashion, Angels, Color, Rox, Hair, Chox, Kit]</td>\n",
       "      <td>fashion angel color rox hair chox kit experi w...</td>\n",
       "    </tr>\n",
       "    <tr>\n",
       "      <th>4</th>\n",
       "      <td>Union Creative Giant Killing Figure 05: Daisu...</td>\n",
       "      <td>From Union Creative. Turn your display shelf i...</td>\n",
       "      <td>Toys &amp; Games › Action Figures &amp; Statues › Sta...</td>\n",
       "      <td>[Union, Creative, Giant, Killing, Figure, 05:,...</td>\n",
       "      <td>union creativ giant kill figur 05 : daisuk tsu...</td>\n",
       "    </tr>\n",
       "  </tbody>\n",
       "</table>\n",
       "</div>"
      ],
      "text/plain": [
       "                                               Title  \\\n",
       "0   Swissmar Capstore Select Storage Rack for 18-...   \n",
       "1   Gemini200 Delta CV-880 Gold Crown Livery Airc...   \n",
       "2   Superior Threads 10501-2172 Magnifico Cream P...   \n",
       "3            Fashion Angels Color Rox Hair Chox Kit    \n",
       "4   Union Creative Giant Killing Figure 05: Daisu...   \n",
       "\n",
       "                                         Description  \\\n",
       "0  Swissmar's capstore select 18 storage unit kee...   \n",
       "1  Welcome to the exciting world of GeminiJets! O...   \n",
       "2  For quilting and embroidery, this product is m...   \n",
       "3  Experiment with the haute trend of hair chalki...   \n",
       "4  From Union Creative. Turn your display shelf i...   \n",
       "\n",
       "                                            Category  \\\n",
       "0   Home & Kitchen Kitchen & Dining Kitchen Utens...   \n",
       "1   Toys & Games Hobbies Models & Model Kits Pre-...   \n",
       "2   Arts, Crafts & Sewing Sewing Thread & Floss S...   \n",
       "3   Beauty & Personal Care Hair Care Hair Colorin...   \n",
       "4   Toys & Games › Action Figures & Statues › Sta...   \n",
       "\n",
       "                                           Num_Title  \\\n",
       "0  [Swissmar, Capstore, Select, Storage, Rack, fo...   \n",
       "1  [Gemini200, Delta, CV-880, Gold, Crown, Livery...   \n",
       "2  [Superior, Threads, 10501-2172, Magnifico, Cre...   \n",
       "3     [Fashion, Angels, Color, Rox, Hair, Chox, Kit]   \n",
       "4  [Union, Creative, Giant, Killing, Figure, 05:,...   \n",
       "\n",
       "                                      stemmed_tokens  \n",
       "0  swissmar capstor select storag rack for 18-pac...  \n",
       "1  gemini200 delta cv-880 gold crown liveri aircr...  \n",
       "2  superior thread 10501-2172 magnifico cream puf...  \n",
       "3  fashion angel color rox hair chox kit experi w...  \n",
       "4  union creativ giant kill figur 05 : daisuk tsu...  "
      ]
     },
     "execution_count": 20,
     "metadata": {},
     "output_type": "execute_result"
    }
   ],
   "source": [
    "df.head()"
   ]
  },
  {
   "cell_type": "code",
   "execution_count": 21,
   "id": "262d4699-aac7-4bd9-bb4c-838378550c71",
   "metadata": {},
   "outputs": [],
   "source": [
    "from sklearn.feature_extraction.text import TfidfVectorizer"
   ]
  },
  {
   "cell_type": "code",
   "execution_count": 22,
   "id": "2020b832-a383-4c60-b9f0-4fa972303a83",
   "metadata": {},
   "outputs": [],
   "source": [
    "from sklearn.metrics.pairwise import cosine_similarity  "
   ]
  },
  {
   "cell_type": "code",
   "execution_count": 23,
   "id": "6a0c012a-a606-4c71-aecb-32a4597def12",
   "metadata": {},
   "outputs": [],
   "source": [
    "tfidfv = TfidfVectorizer(tokenizer= tokenize_stem)"
   ]
  },
  {
   "cell_type": "code",
   "execution_count": 24,
   "id": "4303b4f1-26b3-481f-bd44-d930ebd30101",
   "metadata": {},
   "outputs": [],
   "source": [
    "def cosine_sim(text1, text2):\n",
    "    matrix = tfidfv.fit_transform([text1, text2])\n",
    "    return cosine_similarity(matrix)    "
   ]
  },
  {
   "cell_type": "code",
   "execution_count": 34,
   "id": "1dc6f646-b3ed-4404-a585-42a136005597",
   "metadata": {},
   "outputs": [],
   "source": [
    "import warnings\n",
    "warnings.filterwarnings(\"ignore\", category=UserWarning, module=\"sklearn\")"
   ]
  },
  {
   "cell_type": "markdown",
   "id": "31c4017d-2dd5-4627-9ed9-2f9ccfc794fe",
   "metadata": {},
   "source": [
    "- text1 and text2: any two text strings (e.g., Title and Description)\n",
    "\n",
    "- fit_transform([text1, text2]): learns vocabulary and vectorizes both texts\n",
    "\n",
    "- cosine_similarity(matrix): computes a similarity matrix between them"
   ]
  },
  {
   "cell_type": "code",
   "execution_count": 39,
   "id": "bcc62142-bb96-4a45-894a-d93eedf51405",
   "metadata": {},
   "outputs": [],
   "source": [
    "def search_product(query):\n",
    "    stemmed_query = tokenize_stem(query)\n",
    "    \n",
    "    # Calculate cosine similarity between the query and each product\n",
    "    df['similarity'] = df['stemmed_tokens'].apply(lambda x: cosine_sim(stemmed_query, x)[0]\n",
    "                                                 [0]) ## cosine_sim must return float\n",
    "    \n",
    "    # Sort and select top 10 most similar products\n",
    "    res = df.sort_values(by=['similarity'], ascending=False).head(10)[['Title', 'Description', 'Category']]\n",
    "    \n",
    "    return res\n"
   ]
  },
  {
   "cell_type": "markdown",
   "id": "8609bd86-0341-41ae-93da-6f77740f7cc0",
   "metadata": {},
   "source": [
    "## 🔍 Product Search Function Using Cosine Similarity\n",
    "\n",
    "### 📌 Purpose\n",
    "The `search_product(query)` function allows users to **search for products** by comparing a text query against a database of product descriptions or tokens. It ranks and returns the **top 10 most similar products** based on cosine similarity.\n",
    "\n",
    "---\n",
    "\n",
    "### 🧠 Function Breakdown\n",
    "\n",
    "```python\n",
    "def search_product(query):\n",
    "    stemmed_query = tokenize(query)\n",
    "    \n",
    "    # Calculating the cosine similarity between the query and each product's stemmed tokens\n",
    "    df['similarity'] = df['stemmed_tokens'].apply(lambda x: cosine_sim(stemmed_query, x)) ##cosine_sim must return float\n",
    "    \n",
    "    # Sorting the products by similarity score (highest first) and selecting top 10\n",
    "    res = df.sort_values(by=['similarity'], ascending=False).head(10)[['Title', 'Description', 'Category']]\n",
    "    \n",
    "    return res\n"
   ]
  },
  {
   "cell_type": "code",
   "execution_count": null,
   "id": "79c53ccf-bef0-4fa7-b667-5b2b166e621a",
   "metadata": {},
   "outputs": [],
   "source": []
  },
  {
   "cell_type": "code",
   "execution_count": 40,
   "id": "dc82f109-0eac-4314-9ca9-e2e4ee865a4d",
   "metadata": {},
   "outputs": [
    {
     "data": {
      "text/html": [
       "<div>\n",
       "<style scoped>\n",
       "    .dataframe tbody tr th:only-of-type {\n",
       "        vertical-align: middle;\n",
       "    }\n",
       "\n",
       "    .dataframe tbody tr th {\n",
       "        vertical-align: top;\n",
       "    }\n",
       "\n",
       "    .dataframe thead th {\n",
       "        text-align: right;\n",
       "    }\n",
       "</style>\n",
       "<table border=\"1\" class=\"dataframe\">\n",
       "  <thead>\n",
       "    <tr style=\"text-align: right;\">\n",
       "      <th></th>\n",
       "      <th>Title</th>\n",
       "      <th>Description</th>\n",
       "      <th>Category</th>\n",
       "    </tr>\n",
       "  </thead>\n",
       "  <tbody>\n",
       "    <tr>\n",
       "      <th>2</th>\n",
       "      <td>Superior Threads 10501-2172 Magnifico Cream P...</td>\n",
       "      <td>For quilting and embroidery, this product is m...</td>\n",
       "      <td>Arts, Crafts &amp; Sewing Sewing Thread &amp; Floss S...</td>\n",
       "    </tr>\n",
       "    <tr>\n",
       "      <th>69</th>\n",
       "      <td>EARTHLITE Professional Massage Creme - Multi ...</td>\n",
       "      <td>Our Multi-Purpose Massage Crème is long lastin...</td>\n",
       "      <td>Beauty &amp; Personal Care Tools &amp; Accessories Sa...</td>\n",
       "    </tr>\n",
       "    <tr>\n",
       "      <th>652</th>\n",
       "      <td>Alexander Dolls 10\" Morticia - Broadway Music...</td>\n",
       "      <td>The Addams Family Musical - Based on character...</td>\n",
       "      <td>Toys &amp; Games › Dolls &amp; Accessories › Dolls</td>\n",
       "    </tr>\n",
       "    <tr>\n",
       "      <th>563</th>\n",
       "      <td>Rosalina White Multi-Dot Tin Tea Set 15Pc Chi...</td>\n",
       "      <td>Our great toys will engage and entertain littl...</td>\n",
       "      <td>Toys &amp; Games Dress Up &amp; Pretend Play Pretend ...</td>\n",
       "    </tr>\n",
       "    <tr>\n",
       "      <th>169</th>\n",
       "      <td>GALLERY SOLUTIONS 8x10 Distressed Turquoise &amp;...</td>\n",
       "      <td>Display your most cherished photos with this 8...</td>\n",
       "      <td>Home &amp; Kitchen › Wall Art › Posters &amp; Prints</td>\n",
       "    </tr>\n",
       "    <tr>\n",
       "      <th>544</th>\n",
       "      <td>GUM Proxabrush Go-Betweens Interdental Brush ...</td>\n",
       "      <td>GUM Proxabrush Go-Betweens handle and refills ...</td>\n",
       "      <td>Industrial &amp; Scientific Professional Dental S...</td>\n",
       "    </tr>\n",
       "    <tr>\n",
       "      <th>646</th>\n",
       "      <td>Dunroven House Winter Snowman Bird Brain Desi...</td>\n",
       "      <td>Towel Embroidery Set 1 Snowman. A perfect way ...</td>\n",
       "      <td>Arts, Crafts &amp; Sewing Needlework Embroidery</td>\n",
       "    </tr>\n",
       "    <tr>\n",
       "      <th>478</th>\n",
       "      <td>Olivia Garden Fingerbrush Paddle - Medium - F...</td>\n",
       "      <td>- FBCOMB-MD - Special blend of ionic &amp; 100% bo...</td>\n",
       "      <td>Beauty &amp; Personal Care › Hair Care › Styling ...</td>\n",
       "    </tr>\n",
       "    <tr>\n",
       "      <th>467</th>\n",
       "      <td>Martin Yale T15 Premier SharpCut 15\" Cutting ...</td>\n",
       "      <td>The T15 SharpCut trimmer has self-sharpening s...</td>\n",
       "      <td>Office Products › Office &amp; School Supplies › ...</td>\n",
       "    </tr>\n",
       "    <tr>\n",
       "      <th>271</th>\n",
       "      <td>2.25 Inch Dog Double Wall Hook</td>\n",
       "      <td>This gorgeous 2.25 inch dog double wall hook h...</td>\n",
       "      <td>Home &amp; Kitchen Storage &amp; Organization Home St...</td>\n",
       "    </tr>\n",
       "  </tbody>\n",
       "</table>\n",
       "</div>"
      ],
      "text/plain": [
       "                                                 Title  \\\n",
       "2     Superior Threads 10501-2172 Magnifico Cream P...   \n",
       "69    EARTHLITE Professional Massage Creme - Multi ...   \n",
       "652   Alexander Dolls 10\" Morticia - Broadway Music...   \n",
       "563   Rosalina White Multi-Dot Tin Tea Set 15Pc Chi...   \n",
       "169   GALLERY SOLUTIONS 8x10 Distressed Turquoise &...   \n",
       "544   GUM Proxabrush Go-Betweens Interdental Brush ...   \n",
       "646   Dunroven House Winter Snowman Bird Brain Desi...   \n",
       "478   Olivia Garden Fingerbrush Paddle - Medium - F...   \n",
       "467   Martin Yale T15 Premier SharpCut 15\" Cutting ...   \n",
       "271                    2.25 Inch Dog Double Wall Hook    \n",
       "\n",
       "                                           Description  \\\n",
       "2    For quilting and embroidery, this product is m...   \n",
       "69   Our Multi-Purpose Massage Crème is long lastin...   \n",
       "652  The Addams Family Musical - Based on character...   \n",
       "563  Our great toys will engage and entertain littl...   \n",
       "169  Display your most cherished photos with this 8...   \n",
       "544  GUM Proxabrush Go-Betweens handle and refills ...   \n",
       "646  Towel Embroidery Set 1 Snowman. A perfect way ...   \n",
       "478  - FBCOMB-MD - Special blend of ionic & 100% bo...   \n",
       "467  The T15 SharpCut trimmer has self-sharpening s...   \n",
       "271  This gorgeous 2.25 inch dog double wall hook h...   \n",
       "\n",
       "                                              Category  \n",
       "2     Arts, Crafts & Sewing Sewing Thread & Floss S...  \n",
       "69    Beauty & Personal Care Tools & Accessories Sa...  \n",
       "652        Toys & Games › Dolls & Accessories › Dolls   \n",
       "563   Toys & Games Dress Up & Pretend Play Pretend ...  \n",
       "169      Home & Kitchen › Wall Art › Posters & Prints   \n",
       "544   Industrial & Scientific Professional Dental S...  \n",
       "646       Arts, Crafts & Sewing Needlework Embroidery   \n",
       "478   Beauty & Personal Care › Hair Care › Styling ...  \n",
       "467   Office Products › Office & School Supplies › ...  \n",
       "271   Home & Kitchen Storage & Organization Home St...  "
      ]
     },
     "execution_count": 40,
     "metadata": {},
     "output_type": "execute_result"
    }
   ],
   "source": [
    "\n",
    " search_product(\"' Swissmar Capstore Select Storage Rack for 18-Pack'\")"
   ]
  },
  {
   "cell_type": "code",
   "execution_count": 41,
   "id": "90ebf876-72e1-4a08-9458-8536d43df66c",
   "metadata": {},
   "outputs": [
    {
     "data": {
      "text/plain": [
       "' Swissmar Capstore Select Storage Rack for 18-Pack '"
      ]
     },
     "execution_count": 41,
     "metadata": {},
     "output_type": "execute_result"
    }
   ],
   "source": [
    "df['Title'][0]"
   ]
  },
  {
   "cell_type": "code",
   "execution_count": null,
   "id": "3146a58b-c86e-4ebc-bffb-1dbbb3aea22b",
   "metadata": {},
   "outputs": [],
   "source": []
  },
  {
   "cell_type": "code",
   "execution_count": null,
   "id": "c9c40f4b-0a10-4034-92aa-8ce6a95ce1a9",
   "metadata": {},
   "outputs": [],
   "source": []
  },
  {
   "cell_type": "code",
   "execution_count": null,
   "id": "ace7b65c-4ec0-445e-98a8-556d57a48afe",
   "metadata": {},
   "outputs": [],
   "source": []
  },
  {
   "cell_type": "code",
   "execution_count": null,
   "id": "f5ecd776-c83b-4afc-97a1-fa0dd9b8e2a1",
   "metadata": {},
   "outputs": [],
   "source": []
  },
  {
   "cell_type": "code",
   "execution_count": null,
   "id": "3ec96705-7629-4c12-94e9-d6108f399f0c",
   "metadata": {},
   "outputs": [],
   "source": []
  },
  {
   "cell_type": "code",
   "execution_count": null,
   "id": "69fe16ce-e308-48af-bbba-1a6e6097663e",
   "metadata": {},
   "outputs": [],
   "source": []
  },
  {
   "cell_type": "code",
   "execution_count": null,
   "id": "d4934b72-fb5f-4b05-ac89-156522076f40",
   "metadata": {},
   "outputs": [],
   "source": []
  }
 ],
 "metadata": {
  "kernelspec": {
   "display_name": "Python 3 (ipykernel)",
   "language": "python",
   "name": "python3"
  },
  "language_info": {
   "codemirror_mode": {
    "name": "ipython",
    "version": 3
   },
   "file_extension": ".py",
   "mimetype": "text/x-python",
   "name": "python",
   "nbconvert_exporter": "python",
   "pygments_lexer": "ipython3",
   "version": "3.10.0"
  }
 },
 "nbformat": 4,
 "nbformat_minor": 5
}
